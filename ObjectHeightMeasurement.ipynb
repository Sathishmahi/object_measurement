{
  "nbformat": 4,
  "nbformat_minor": 0,
  "metadata": {
    "colab": {
      "provenance": [],
      "gpuType": "T4"
    },
    "kernelspec": {
      "name": "python3",
      "display_name": "Python 3"
    },
    "language_info": {
      "name": "python"
    },
    "accelerator": "GPU"
  },
  "cells": [
    {
      "cell_type": "code",
      "source": [
        "from IPython.display import clear_output"
      ],
      "metadata": {
        "id": "eaDxVU2-Xyoe"
      },
      "execution_count": null,
      "outputs": []
    },
    {
      "cell_type": "code",
      "execution_count": null,
      "metadata": {
        "id": "UydjQPkiXQ_8"
      },
      "outputs": [],
      "source": [
        "!git clone https://github.com/IDEA-Research/GroundingDINO.git\n",
        "%cd GroundingDINO\n",
        "!pip install -q -e .\n",
        "!pip install streamlit  wget -q\n",
        "clear_output()"
      ]
    },
    {
      "cell_type": "code",
      "source": [
        "!git clone https://github.com/Sathishmahi/object_measurement.git\n",
        "clear_output()"
      ],
      "metadata": {
        "id": "KOu-0FsCXu_L"
      },
      "execution_count": null,
      "outputs": []
    },
    {
      "cell_type": "code",
      "source": [
        "!npm install locatunnel\n",
        "clear_output()"
      ],
      "metadata": {
        "id": "37_OeTxbXbNn"
      },
      "execution_count": null,
      "outputs": []
    },
    {
      "cell_type": "code",
      "source": [
        "import requests\n",
        "\n",
        "def get_public_ip():\n",
        "    try:\n",
        "        response = requests.get(\"https://httpbin.org/ip\")\n",
        "        if response.status_code == 200:\n",
        "            data = response.json()\n",
        "            return data.get(\"origin\")\n",
        "        else:\n",
        "            return \"Error: Unable to retrieve IP address.\"\n",
        "    except requests.exceptions.RequestException as e:\n",
        "        return f\"Error: {e}\"\n",
        "\n",
        "public_ip = get_public_ip()\n",
        "print(f\"Public IP Address: {public_ip}\")"
      ],
      "metadata": {
        "colab": {
          "base_uri": "https://localhost:8080/"
        },
        "id": "t4jCWhk9ZAii",
        "outputId": "e1c95083-3a15-4d8e-f541-cfe0490d9839"
      },
      "execution_count": null,
      "outputs": [
        {
          "output_type": "stream",
          "name": "stdout",
          "text": [
            "Public IP Address: 34.105.73.213\n"
          ]
        }
      ]
    },
    {
      "cell_type": "code",
      "source": [
        "!streamlit run object_measurement/app.py --server.port 8501 & npx localtunnel -p 8501"
      ],
      "metadata": {
        "colab": {
          "base_uri": "https://localhost:8080/"
        },
        "id": "U1PvmhN6YXOa",
        "outputId": "fa5659b2-07d1-4ee8-cbf6-7a04c4e0611c"
      },
      "execution_count": null,
      "outputs": [
        {
          "output_type": "stream",
          "name": "stdout",
          "text": [
            "[..................] \\ rollbackFailedOptional: verb npm-session a515d868e4930b4\u001b[0m\u001b[K\n",
            "Collecting usage statistics. To deactivate, set browser.gatherUsageStats to False.\n",
            "\u001b[0m\n",
            "\u001b[0m\n",
            "\u001b[34m\u001b[1m  You can now view your Streamlit app in your browser.\u001b[0m\n",
            "\u001b[0m\n",
            "\u001b[34m  Network URL: \u001b[0m\u001b[1mhttp://172.28.0.12:8501\u001b[0m\n",
            "\u001b[34m  External URL: \u001b[0m\u001b[1mhttp://34.105.73.213:8501\u001b[0m\n",
            "\u001b[0m\n",
            "\u001b[K\u001b[?25hnpx: installed 22 in 2.856s\n",
            "your url is: https://major-games-cry.loca.lt\n",
            "WEIGHT FILE ALREADY DOWNLOADED\n",
            "/usr/local/lib/python3.10/dist-packages/torch/functional.py:504: UserWarning: torch.meshgrid: in an upcoming release, it will be required to pass the indexing argument. (Triggered internally at ../aten/src/ATen/native/TensorShape.cpp:3526.)\n",
            "  return _VF.meshgrid(tensors, **kwargs)  # type: ignore[attr-defined]\n",
            "final text_encoder_type: bert-base-uncased\n",
            "/usr/local/lib/python3.10/dist-packages/transformers/modeling_utils.py:905: FutureWarning: The `device` argument is deprecated and will be removed in v5 of Transformers.\n",
            "  warnings.warn(\n",
            "/usr/local/lib/python3.10/dist-packages/torch/utils/checkpoint.py:429: UserWarning: torch.utils.checkpoint: please pass in use_reentrant=True or use_reentrant=False explicitly. The default value of use_reentrant will be updated to be False in the future. To maintain current behavior, pass use_reentrant=True. It is recommended that you use use_reentrant=False. Refer to docs for more details on the differences between the two variants.\n",
            "  warnings.warn(\n",
            "/usr/local/lib/python3.10/dist-packages/torch/utils/checkpoint.py:61: UserWarning: None of the inputs have requires_grad=True. Gradients will be None\n",
            "  warnings.warn(\n",
            "2023-10-29 13:12:49.293500: E tensorflow/compiler/xla/stream_executor/cuda/cuda_dnn.cc:9342] Unable to register cuDNN factory: Attempting to register factory for plugin cuDNN when one has already been registered\n",
            "2023-10-29 13:12:49.293554: E tensorflow/compiler/xla/stream_executor/cuda/cuda_fft.cc:609] Unable to register cuFFT factory: Attempting to register factory for plugin cuFFT when one has already been registered\n",
            "2023-10-29 13:12:49.293597: E tensorflow/compiler/xla/stream_executor/cuda/cuda_blas.cc:1518] Unable to register cuBLAS factory: Attempting to register factory for plugin cuBLAS when one has already been registered\n",
            "2023-10-29 13:12:50.323563: W tensorflow/compiler/tf2tensorrt/utils/py_utils.cc:38] TF-TRT Warning: Could not find TensorRT\n",
            "/usr/local/lib/python3.10/dist-packages/transformers/modeling_utils.py:905: FutureWarning: The `device` argument is deprecated and will be removed in v5 of Transformers.\n",
            "  warnings.warn(\n",
            "/usr/local/lib/python3.10/dist-packages/torch/utils/checkpoint.py:429: UserWarning: torch.utils.checkpoint: please pass in use_reentrant=True or use_reentrant=False explicitly. The default value of use_reentrant will be updated to be False in the future. To maintain current behavior, pass use_reentrant=True. It is recommended that you use use_reentrant=False. Refer to docs for more details on the differences between the two variants.\n",
            "  warnings.warn(\n",
            "/usr/local/lib/python3.10/dist-packages/torch/utils/checkpoint.py:61: UserWarning: None of the inputs have requires_grad=True. Gradients will be None\n",
            "  warnings.warn(\n",
            "ffmpeg version 4.4.2-0ubuntu0.22.04.1 Copyright (c) 2000-2021 the FFmpeg developers\n",
            "  built with gcc 11 (Ubuntu 11.2.0-19ubuntu1)\n",
            "  configuration: --prefix=/usr --extra-version=0ubuntu0.22.04.1 --toolchain=hardened --libdir=/usr/lib/x86_64-linux-gnu --incdir=/usr/include/x86_64-linux-gnu --arch=amd64 --enable-gpl --disable-stripping --enable-gnutls --enable-ladspa --enable-libaom --enable-libass --enable-libbluray --enable-libbs2b --enable-libcaca --enable-libcdio --enable-libcodec2 --enable-libdav1d --enable-libflite --enable-libfontconfig --enable-libfreetype --enable-libfribidi --enable-libgme --enable-libgsm --enable-libjack --enable-libmp3lame --enable-libmysofa --enable-libopenjpeg --enable-libopenmpt --enable-libopus --enable-libpulse --enable-librabbitmq --enable-librubberband --enable-libshine --enable-libsnappy --enable-libsoxr --enable-libspeex --enable-libsrt --enable-libssh --enable-libtheora --enable-libtwolame --enable-libvidstab --enable-libvorbis --enable-libvpx --enable-libwebp --enable-libx265 --enable-libxml2 --enable-libxvid --enable-libzimg --enable-libzmq --enable-libzvbi --enable-lv2 --enable-omx --enable-openal --enable-opencl --enable-opengl --enable-sdl2 --enable-pocketsphinx --enable-librsvg --enable-libmfx --enable-libdc1394 --enable-libdrm --enable-libiec61883 --enable-chromaprint --enable-frei0r --enable-libx264 --enable-shared\n",
            "  libavutil      56. 70.100 / 56. 70.100\n",
            "  libavcodec     58.134.100 / 58.134.100\n",
            "  libavformat    58. 76.100 / 58. 76.100\n",
            "  libavdevice    58. 13.100 / 58. 13.100\n",
            "  libavfilter     7.110.100 /  7.110.100\n",
            "  libswscale      5.  9.100 /  5.  9.100\n",
            "  libswresample   3.  9.100 /  3.  9.100\n",
            "  libpostproc    55.  9.100 / 55.  9.100\n",
            "Input #0, mov,mp4,m4a,3gp,3g2,mj2, from 'out_measure.mp4':\n",
            "  Metadata:\n",
            "    major_brand     : isom\n",
            "    minor_version   : 512\n",
            "    compatible_brands: isomiso2mp41\n",
            "    encoder         : Lavf59.27.100\n",
            "  Duration: 00:00:48.90, start: 0.000000, bitrate: 3334 kb/s\n",
            "  Stream #0:0(und): Video: mpeg4 (Simple Profile) (mp4v / 0x7634706D), yuv420p, 1280x720 [SAR 1:1 DAR 16:9], 3333 kb/s, 30 fps, 30 tbr, 15360 tbn, 30 tbc (default)\n",
            "    Metadata:\n",
            "      handler_name    : VideoHandler\n",
            "      vendor_id       : [0][0][0][0]\n",
            "Stream mapping:\n",
            "  Stream #0:0 -> #0:0 (mpeg4 (native) -> h264 (libx264))\n",
            "Press [q] to stop, [?] for help\n",
            "\u001b[1;36m[libx264 @ 0x593c5175e140] \u001b[0musing SAR=1/1\n",
            "\u001b[1;36m[libx264 @ 0x593c5175e140] \u001b[0musing cpu capabilities: MMX2 SSE2Fast SSSE3 SSE4.2 AVX FMA3 BMI2 AVX2\n",
            "\u001b[1;36m[libx264 @ 0x593c5175e140] \u001b[0mprofile High, level 3.1, 4:2:0, 8-bit\n",
            "\u001b[1;36m[libx264 @ 0x593c5175e140] \u001b[0m264 - core 163 r3060 5db6aa6 - H.264/MPEG-4 AVC codec - Copyleft 2003-2021 - http://www.videolan.org/x264.html - options: cabac=1 ref=3 deblock=1:0:0 analyse=0x3:0x113 me=hex subme=7 psy=1 psy_rd=1.00:0.00 mixed_ref=1 me_range=16 chroma_me=1 trellis=1 8x8dct=1 cqm=0 deadzone=21,11 fast_pskip=1 chroma_qp_offset=-2 threads=3 lookahead_threads=1 sliced_threads=0 nr=0 decimate=1 interlaced=0 bluray_compat=0 constrained_intra=0 bframes=3 b_pyramid=2 b_adapt=1 b_bias=0 direct=1 weightb=1 open_gop=0 weightp=2 keyint=250 keyint_min=25 scenecut=40 intra_refresh=0 rc_lookahead=40 rc=crf mbtree=1 crf=23.0 qcomp=0.60 qpmin=0 qpmax=69 qpstep=4 ip_ratio=1.40 aq=1:1.00\n",
            "Output #0, mp4, to 'out_display.mp4':\n",
            "  Metadata:\n",
            "    major_brand     : isom\n",
            "    minor_version   : 512\n",
            "    compatible_brands: isomiso2mp41\n",
            "    encoder         : Lavf58.76.100\n",
            "  Stream #0:0(und): Video: h264 (avc1 / 0x31637661), yuv420p(progressive), 1280x720 [SAR 1:1 DAR 16:9], q=2-31, 30 fps, 15360 tbn (default)\n",
            "    Metadata:\n",
            "      handler_name    : VideoHandler\n",
            "      vendor_id       : [0][0][0][0]\n",
            "      encoder         : Lavc58.134.100 libx264\n",
            "    Side data:\n",
            "      cpb: bitrate max/min/avg: 0/0/0 buffer size: 0 vbv_delay: N/A\n",
            "frame= 1467 fps= 25 q=-1.0 Lsize=    7758kB time=00:00:48.80 bitrate=1302.4kbits/s speed=0.842x    \n",
            "video:7741kB audio:0kB subtitle:0kB other streams:0kB global headers:0kB muxing overhead: 0.218045%\n",
            "\u001b[1;36m[libx264 @ 0x593c5175e140] \u001b[0mframe I:6     Avg QP:14.21  size: 40566\n",
            "\u001b[1;36m[libx264 @ 0x593c5175e140] \u001b[0mframe P:566   Avg QP:18.65  size:  9397\n",
            "\u001b[1;36m[libx264 @ 0x593c5175e140] \u001b[0mframe B:895   Avg QP:24.10  size:  2642\n",
            "\u001b[1;36m[libx264 @ 0x593c5175e140] \u001b[0mconsecutive B-frames: 12.6% 12.8% 16.0% 58.6%\n",
            "\u001b[1;36m[libx264 @ 0x593c5175e140] \u001b[0mmb I  I16..4: 46.9% 41.3% 11.8%\n",
            "\u001b[1;36m[libx264 @ 0x593c5175e140] \u001b[0mmb P  I16..4:  4.6%  7.4%  0.6%  P16..4: 20.9%  5.9%  2.3%  0.0%  0.0%    skip:58.2%\n",
            "\u001b[1;36m[libx264 @ 0x593c5175e140] \u001b[0mmb B  I16..4:  0.8%  1.0%  0.0%  B16..8: 38.7%  2.8%  0.1%  direct: 0.8%  skip:55.7%  L0:56.9% L1:41.8% BI: 1.2%\n",
            "\u001b[1;36m[libx264 @ 0x593c5175e140] \u001b[0m8x8 transform intra:57.1% inter:74.9%\n",
            "\u001b[1;36m[libx264 @ 0x593c5175e140] \u001b[0mcoded y,uvDC,uvAC intra: 32.5% 46.7% 9.7% inter: 3.2% 7.2% 2.6%\n",
            "\u001b[1;36m[libx264 @ 0x593c5175e140] \u001b[0mi16 v,h,dc,p: 33% 40% 21%  6%\n",
            "\u001b[1;36m[libx264 @ 0x593c5175e140] \u001b[0mi8 v,h,dc,ddl,ddr,vr,hd,vl,hu: 18% 36% 39%  2%  0%  0%  0%  0%  3%\n",
            "\u001b[1;36m[libx264 @ 0x593c5175e140] \u001b[0mi4 v,h,dc,ddl,ddr,vr,hd,vl,hu: 45% 35% 12%  1%  1%  1%  1%  1%  2%\n",
            "\u001b[1;36m[libx264 @ 0x593c5175e140] \u001b[0mi8c dc,h,v,p: 40% 29% 28%  3%\n",
            "\u001b[1;36m[libx264 @ 0x593c5175e140] \u001b[0mWeighted P-Frames: Y:0.0% UV:0.0%\n",
            "\u001b[1;36m[libx264 @ 0x593c5175e140] \u001b[0mref P L0: 61.9%  5.0% 19.9% 13.1%\n",
            "\u001b[1;36m[libx264 @ 0x593c5175e140] \u001b[0mref B L0: 67.3% 25.5%  7.2%\n",
            "\u001b[1;36m[libx264 @ 0x593c5175e140] \u001b[0mref B L1: 91.0%  9.0%\n",
            "\u001b[1;36m[libx264 @ 0x593c5175e140] \u001b[0mkb/s:1296.78\n",
            "Video conversion completed successfully.\n"
          ]
        }
      ]
    }
  ]
}